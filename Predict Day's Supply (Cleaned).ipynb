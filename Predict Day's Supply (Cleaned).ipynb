{
 "cells": [
  {
   "cell_type": "markdown",
   "metadata": {},
   "source": [
    "# Predict Number of Day's Supply for Atorvastatin prescribed by an HCP in 2019"
   ]
  },
  {
   "cell_type": "markdown",
   "metadata": {},
   "source": [
    "References:\n",
    "- https://www.udemy.com/course/statistics-for-data-science-and-business-analysis/learn/lecture/8742394#reviews\n",
    "- https://www.cms.gov/newsroom/data\n",
    "- https://data.cms.gov/provider-summary-by-type-of-service/medicare-part-d-prescribers/medicare-part-d-prescribers-by-provider-and-drug/data\n",
    "- https://data.cms.gov/resources/medicare-part-d-prescribers-by-provider-and-drug-data-dictionary\n",
    "-https://clincalc.com/DrugStats/Top300Drugs.aspx"
   ]
  },
  {
   "cell_type": "code",
   "execution_count": 1,
   "metadata": {},
   "outputs": [],
   "source": [
    "import pandas as pd\n",
    "import seaborn as sns\n",
    "import numpy as np\n",
    "import matplotlib.pyplot as plt\n",
    "import statsmodels.api as sm\n",
    "from statsmodels.iolib.summary2 import summary_col\n",
    "from linearmodels.iv import IV2SLS\n",
    "from sklearn.preprocessing import OneHotEncoder"
   ]
  },
  {
   "cell_type": "code",
   "execution_count": 2,
   "metadata": {},
   "outputs": [],
   "source": [
    "def read_file_filter_therapy(input_csv,drug_name_str):\n",
    "    \"\"\"\n",
    "        Return a dataframe limited to the therapy under study\n",
    "    \"\"\"\n",
    "    df=pd.read_csv(input_csv)\n",
    "    df['Gnrc_Name']=df['Gnrc_Name'].str.strip()\n",
    "    df['Gnrc_Name']=df['Gnrc_Name'].str.lower()\n",
    "    df=df[df['Gnrc_Name'].str.contains(drug_name_str)]\n",
    "    \n",
    "    return df\n",
    "\n",
    "def pre_process(df):\n",
    "    \"\"\"\n",
    "        Return a dataframe: \n",
    "            - Without Nan's\n",
    "            - One record per HCP\n",
    "            - At least 1 beneficiary older than 65 years\n",
    "            - A state attribution\n",
    "    \"\"\"\n",
    "    df.dropna(inplace=True)\n",
    "    df.drop_duplicates(subset=['Prscrbr_NPI'],inplace=True,keep=False)\n",
    "    df=df[df['GE65_Tot_Benes']>0]\n",
    "    df=df[~df['Prscrbr_State_Abrvtn'].isin(['XX','ZZ'])]\n",
    "    \n",
    "    return df\n",
    "\n",
    "def spec_prim_care_pys(df):\n",
    "    \"\"\"\n",
    "        Return a dataframe with 'Prscrbr_Type' as 'Primary Care Physician', if\n",
    "        specialty is: 'Family Practice','Internal Medicine','General Practice'\n",
    "    \"\"\"\n",
    "    df.loc[df['Prscrbr_Type'].isin(['Family Practice','Internal Medicine','General Practice']),'Prscrbr_Type'] = 'Primary Care Physician'\n",
    "    \n",
    "    return df\n",
    "\n",
    "def select_df_for_analysis(df):\n",
    "    \"\"\"\n",
    "        Return a dataframe with PCP's, Cardiologist, Geriatric Medicinists\n",
    "        and the columns for analysis\n",
    "    \"\"\"\n",
    "    \n",
    "    df=df[df['Prscrbr_Type'].isin(['Primary Care Physician','Cardiology','Geriatric Medicine'])]\n",
    "    df=df[['Prscrbr_State_Abrvtn','Prscrbr_Type','Tot_Clms','Tot_Drug_Cst','Tot_Benes','GE65_Tot_Benes','Tot_Day_Suply']]\n",
    "    \n",
    "    return df\n",
    "\n",
    "def main(input_filename,drug_name):\n",
    "    \n",
    "    #Pre-process\n",
    "    df_drug_selection=read_file_filter_therapy(input_filename,drug_name)\n",
    "    df_pre_proc=pre_process(df_drug_selection)\n",
    "    df_spec=spec_prim_care_pys(df_pre_proc)\n",
    "    df_analysis=select_df_for_analysis(df_spec)\n",
    "    \n",
    "    \n",
    "    \n",
    "    "
   ]
  },
  {
   "cell_type": "code",
   "execution_count": 4,
   "metadata": {},
   "outputs": [],
   "source": [
    "if __name__ == \"__main__\":\n",
    "    main(\"input/Medicare_Part_D_Prescribers_by_Provider_and_Drug_2019.csv\",\"atorvastatin\")"
   ]
  }
 ],
 "metadata": {
  "kernelspec": {
   "display_name": "Python 3",
   "language": "python",
   "name": "python3"
  },
  "language_info": {
   "codemirror_mode": {
    "name": "ipython",
    "version": 3
   },
   "file_extension": ".py",
   "mimetype": "text/x-python",
   "name": "python",
   "nbconvert_exporter": "python",
   "pygments_lexer": "ipython3",
   "version": "3.6.4"
  }
 },
 "nbformat": 4,
 "nbformat_minor": 4
}
